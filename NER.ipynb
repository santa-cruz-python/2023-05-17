{
 "cells": [
  {
   "cell_type": "markdown",
   "id": "4e04919f-b8ec-42e0-a09a-10a1b6c5b9ea",
   "metadata": {},
   "source": [
    "# Named Entity Recognition (NER)"
   ]
  },
  {
   "cell_type": "code",
   "execution_count": 14,
   "id": "6439ab83-a03f-4067-89bf-26b9b4b4d91c",
   "metadata": {
    "tags": []
   },
   "outputs": [],
   "source": [
    "from transformers import AutoTokenizer, AutoModelForTokenClassification\n",
    "from transformers import pipeline\n",
    "\n",
    "tokenizer = AutoTokenizer.from_pretrained(\"dslim/bert-base-NER\")\n",
    "model = AutoModelForTokenClassification.from_pretrained(\"dslim/bert-base-NER\")\n",
    "\n"
   ]
  },
  {
   "cell_type": "code",
   "execution_count": 15,
   "id": "37dcaf6f-e1cc-403d-971e-4e8939112167",
   "metadata": {
    "tags": []
   },
   "outputs": [],
   "source": [
    "nlp = pipeline(\"ner\", model=model, tokenizer=tokenizer)\n",
    "\n"
   ]
  },
  {
   "cell_type": "code",
   "execution_count": 16,
   "id": "cbdee085-eecc-4f35-808d-5a45489fd608",
   "metadata": {
    "tags": []
   },
   "outputs": [
    {
     "name": "stdout",
     "output_type": "stream",
     "text": [
      "[{'entity': 'B-PER', 'score': 0.9990139, 'index': 4, 'word': 'Wolfgang', 'start': 11, 'end': 19}, {'entity': 'B-LOC', 'score': 0.999645, 'index': 9, 'word': 'Berlin', 'start': 34, 'end': 40}]\n"
     ]
    }
   ],
   "source": [
    "example = \"My name is Wolfgang and I live in Berlin\"\n",
    "ner_results = nlp(example)\n",
    "print(ner_results)\n"
   ]
  },
  {
   "cell_type": "code",
   "execution_count": 17,
   "id": "87fa8a0c-7ce7-4cb0-af7a-c6c6c42d6801",
   "metadata": {
    "tags": []
   },
   "outputs": [],
   "source": [
    "example = \"\"\" New York (CNN)When Liana Barrientos was 23 years old, she got married in Westchester County, New York.\n",
    "A year later, she got married again in Westchester County, but to a different man and without divorcing her first husband.\n",
    "Only 18 days after that marriage, she got hitched yet again. Then, Barrientos declared \"I do\" five more times, sometimes only within two weeks of each other.\n",
    "In 2010, she married once more, this time in the Bronx. In an application for a marriage license, she stated it was her \"first and only\" marriage.\n",
    "Barrientos, now 39, is facing two criminal counts of \"offering a false instrument for filing in the first degree,\" referring to her false statements on the\n",
    "2010 marriage license application, according to court documents.\n",
    "Prosecutors said the marriages were part of an immigration scam.\n",
    "On Friday, she pleaded not guilty at State Supreme Court in the Bronx, according to her attorney, Christopher Wright, who declined to comment further.\n",
    "After leaving court, Barrientos was arrested and charged with theft of service and criminal trespass for allegedly sneaking into the New York subway through an emergency exit, said Detective\n",
    "Annette Markowski, a police spokeswoman. In total, Barrientos has been married 10 times, with nine of her marriages occurring between 1999 and 2002.\n",
    "All occurred either in Westchester County, Long Island, New Jersey or the Bronx. She is believed to still be married to four men, and at one time, she was married to eight men at once, prosecutors say.\n",
    "Prosecutors said the immigration scam involved some of her husbands, who filed for permanent residence status shortly after the marriages.\n",
    "Any divorces happened only after such filings were approved. It was unclear whether any of the men will be prosecuted.\n",
    "The case was referred to the Bronx District Attorney\\'s Office by Immigration and Customs Enforcement and the Department of Homeland Security\\'s\n",
    "Investigation Division. Seven of the men are from so-called \"red-flagged\" countries, including Egypt, Turkey, Georgia, Pakistan and Mali.\n",
    "Her eighth husband, Rashid Rajput, was deported in 2006 to his native Pakistan after an investigation by the Joint Terrorism Task Force.\n",
    "If convicted, Barrientos faces up to four years in prison.  Her next court appearance is scheduled for May 18.\n",
    "\"\"\""
   ]
  },
  {
   "cell_type": "code",
   "execution_count": 18,
   "id": "0c735c39-c2f3-426b-b92b-f3dd1e0501fa",
   "metadata": {
    "tags": []
   },
   "outputs": [
    {
     "name": "stdout",
     "output_type": "stream",
     "text": [
      "[{'entity': 'B-LOC', 'score': 0.99817526, 'index': 1, 'word': 'New', 'start': 1, 'end': 4}, {'entity': 'I-LOC', 'score': 0.99925965, 'index': 2, 'word': 'York', 'start': 5, 'end': 9}, {'entity': 'B-ORG', 'score': 0.9973884, 'index': 4, 'word': 'CNN', 'start': 11, 'end': 14}, {'entity': 'B-PER', 'score': 0.9991844, 'index': 7, 'word': 'Lia', 'start': 20, 'end': 23}, {'entity': 'B-PER', 'score': 0.94172275, 'index': 8, 'word': '##na', 'start': 23, 'end': 25}, {'entity': 'I-PER', 'score': 0.9993154, 'index': 9, 'word': 'Barr', 'start': 26, 'end': 30}, {'entity': 'I-PER', 'score': 0.95692736, 'index': 10, 'word': '##ient', 'start': 30, 'end': 34}, {'entity': 'I-PER', 'score': 0.99234176, 'index': 11, 'word': '##os', 'start': 34, 'end': 36}, {'entity': 'B-LOC', 'score': 0.99957746, 'index': 21, 'word': 'West', 'start': 74, 'end': 78}, {'entity': 'I-LOC', 'score': 0.9978915, 'index': 22, 'word': '##chester', 'start': 78, 'end': 85}, {'entity': 'I-LOC', 'score': 0.99944144, 'index': 23, 'word': 'County', 'start': 86, 'end': 92}, {'entity': 'B-LOC', 'score': 0.9994867, 'index': 25, 'word': 'New', 'start': 94, 'end': 97}, {'entity': 'I-LOC', 'score': 0.9995109, 'index': 26, 'word': 'York', 'start': 98, 'end': 102}, {'entity': 'B-LOC', 'score': 0.99961025, 'index': 37, 'word': 'West', 'start': 143, 'end': 147}, {'entity': 'I-LOC', 'score': 0.9986357, 'index': 38, 'word': '##chester', 'start': 147, 'end': 154}, {'entity': 'I-LOC', 'score': 0.99948514, 'index': 39, 'word': 'County', 'start': 155, 'end': 161}, {'entity': 'B-PER', 'score': 0.99913234, 'index': 71, 'word': 'Barr', 'start': 294, 'end': 298}, {'entity': 'B-LOC', 'score': 0.99874425, 'index': 104, 'word': 'Bronx', 'start': 434, 'end': 439}, {'entity': 'B-PER', 'score': 0.99908674, 'index': 126, 'word': 'Barr', 'start': 532, 'end': 536}, {'entity': 'I-PER', 'score': 0.72100854, 'index': 127, 'word': '##ient', 'start': 536, 'end': 540}, {'entity': 'I-PER', 'score': 0.90703315, 'index': 128, 'word': '##os', 'start': 540, 'end': 542}, {'entity': 'B-ORG', 'score': 0.99459994, 'index': 191, 'word': 'State', 'start': 855, 'end': 860}, {'entity': 'I-ORG', 'score': 0.9966001, 'index': 192, 'word': 'Supreme', 'start': 861, 'end': 868}, {'entity': 'I-ORG', 'score': 0.99391526, 'index': 193, 'word': 'Court', 'start': 869, 'end': 874}, {'entity': 'B-LOC', 'score': 0.9989083, 'index': 196, 'word': 'Bronx', 'start': 882, 'end': 887}, {'entity': 'B-PER', 'score': 0.9996208, 'index': 203, 'word': 'Christopher', 'start': 916, 'end': 927}, {'entity': 'I-PER', 'score': 0.99953246, 'index': 204, 'word': 'Wright', 'start': 928, 'end': 934}, {'entity': 'B-PER', 'score': 0.99788696, 'index': 216, 'word': 'Barr', 'start': 990, 'end': 994}, {'entity': 'I-PER', 'score': 0.62004113, 'index': 217, 'word': '##ient', 'start': 994, 'end': 998}, {'entity': 'I-PER', 'score': 0.8436305, 'index': 218, 'word': '##os', 'start': 998, 'end': 1000}, {'entity': 'B-LOC', 'score': 0.99952674, 'index': 237, 'word': 'New', 'start': 1102, 'end': 1105}, {'entity': 'I-LOC', 'score': 0.9994024, 'index': 238, 'word': 'York', 'start': 1106, 'end': 1110}, {'entity': 'B-PER', 'score': 0.9996414, 'index': 247, 'word': 'Annette', 'start': 1160, 'end': 1167}, {'entity': 'I-PER', 'score': 0.99962234, 'index': 248, 'word': 'Mark', 'start': 1168, 'end': 1172}, {'entity': 'I-PER', 'score': 0.99800974, 'index': 249, 'word': '##owski', 'start': 1172, 'end': 1177}, {'entity': 'B-PER', 'score': 0.9978333, 'index': 260, 'word': 'Barr', 'start': 1211, 'end': 1215}, {'entity': 'I-PER', 'score': 0.50119066, 'index': 261, 'word': '##ient', 'start': 1215, 'end': 1219}, {'entity': 'I-PER', 'score': 0.5636206, 'index': 262, 'word': '##os', 'start': 1219, 'end': 1221}, {'entity': 'B-LOC', 'score': 0.9994838, 'index': 284, 'word': 'West', 'start': 1332, 'end': 1336}, {'entity': 'I-LOC', 'score': 0.9989619, 'index': 285, 'word': '##chester', 'start': 1336, 'end': 1343}, {'entity': 'I-LOC', 'score': 0.99945384, 'index': 286, 'word': 'County', 'start': 1344, 'end': 1350}, {'entity': 'B-LOC', 'score': 0.99940693, 'index': 288, 'word': 'Long', 'start': 1352, 'end': 1356}, {'entity': 'I-LOC', 'score': 0.99948514, 'index': 289, 'word': 'Island', 'start': 1357, 'end': 1363}, {'entity': 'B-LOC', 'score': 0.9995708, 'index': 291, 'word': 'New', 'start': 1365, 'end': 1368}, {'entity': 'I-LOC', 'score': 0.9995059, 'index': 292, 'word': 'Jersey', 'start': 1369, 'end': 1375}, {'entity': 'B-LOC', 'score': 0.99878186, 'index': 295, 'word': 'Bronx', 'start': 1383, 'end': 1388}, {'entity': 'B-LOC', 'score': 0.96516746, 'index': 380, 'word': 'Bronx', 'start': 1798, 'end': 1803}, {'entity': 'I-ORG', 'score': 0.70970285, 'index': 385, 'word': 'Office', 'start': 1824, 'end': 1830}, {'entity': 'B-ORG', 'score': 0.89446265, 'index': 387, 'word': 'Immigration', 'start': 1834, 'end': 1845}, {'entity': 'I-ORG', 'score': 0.85333705, 'index': 389, 'word': 'Customs', 'start': 1850, 'end': 1857}, {'entity': 'I-ORG', 'score': 0.9062444, 'index': 393, 'word': 'Department', 'start': 1878, 'end': 1888}, {'entity': 'B-ORG', 'score': 0.9234178, 'index': 395, 'word': 'Homeland', 'start': 1892, 'end': 1900}, {'entity': 'I-ORG', 'score': 0.5633611, 'index': 399, 'word': 'Investigation', 'start': 1912, 'end': 1925}, {'entity': 'I-ORG', 'score': 0.65812624, 'index': 400, 'word': 'Division', 'start': 1926, 'end': 1934}, {'entity': 'B-LOC', 'score': 0.9996915, 'index': 420, 'word': 'Egypt', 'start': 2007, 'end': 2012}, {'entity': 'B-LOC', 'score': 0.9997482, 'index': 422, 'word': 'Turkey', 'start': 2014, 'end': 2020}, {'entity': 'B-LOC', 'score': 0.9993611, 'index': 424, 'word': 'Georgia', 'start': 2022, 'end': 2029}, {'entity': 'B-LOC', 'score': 0.9996623, 'index': 426, 'word': 'Pakistan', 'start': 2031, 'end': 2039}, {'entity': 'B-LOC', 'score': 0.94556004, 'index': 428, 'word': 'Mali', 'start': 2044, 'end': 2048}, {'entity': 'B-ORG', 'score': 0.61894846, 'index': 434, 'word': 'Rashid', 'start': 2070, 'end': 2076}, {'entity': 'B-ORG', 'score': 0.79083455, 'index': 435, 'word': 'Raj', 'start': 2077, 'end': 2080}, {'entity': 'B-LOC', 'score': 0.9995753, 'index': 445, 'word': 'Pakistan', 'start': 2120, 'end': 2128}, {'entity': 'B-ORG', 'score': 0.9282737, 'index': 451, 'word': 'Joint', 'start': 2159, 'end': 2164}, {'entity': 'B-ORG', 'score': 0.6192691, 'index': 452, 'word': 'Terrorism', 'start': 2165, 'end': 2174}, {'entity': 'B-ORG', 'score': 0.7501647, 'index': 453, 'word': 'Task', 'start': 2175, 'end': 2179}, {'entity': 'I-ORG', 'score': 0.8775573, 'index': 454, 'word': 'Force', 'start': 2180, 'end': 2185}, {'entity': 'B-ORG', 'score': 0.7765059, 'index': 459, 'word': 'Barr', 'start': 2201, 'end': 2205}]\n"
     ]
    }
   ],
   "source": [
    "ner_results = nlp(example)\n",
    "print(ner_results)\n"
   ]
  },
  {
   "cell_type": "code",
   "execution_count": 19,
   "id": "5cc223ac-41fc-40e4-846e-9bd2388baff0",
   "metadata": {
    "tags": []
   },
   "outputs": [],
   "source": [
    "output = \"\"\n",
    "end = 0\n",
    "for entity in ner_results:\n",
    "    start = entity['start']\n",
    "    output += example[end:start]\n",
    "    end = entity['end']\n",
    "    output += f\"<span class=\\\"bold {entity['entity']}\\\" title=\\\"{entity['entity']} {entity['score']}\\\">{example[start:end]}</span>\" \n",
    "    "
   ]
  },
  {
   "cell_type": "code",
   "execution_count": 20,
   "id": "b3bec5ea-3060-44b0-bad9-d6800c3c80fb",
   "metadata": {
    "tags": []
   },
   "outputs": [
    {
     "data": {
      "text/html": [
       "\n",
       "<html>\n",
       "<head>\n",
       "<style>\n",
       ".bold {\n",
       "    font-weight: 800\n",
       "}\n",
       ".I-LOC {color: cyan;}\n",
       ".B-LOC {color: blue;}\n",
       ".I-ORG {color: orange;}\n",
       ".B-ORG {color: red;}\n",
       ".I-PER {color: green;}\n",
       ".B-PER {color: darkgreen;}\n",
       "</style>\n",
       "<head>\n",
       "<body>\n",
       " <span class=\"bold B-LOC\" title=\"B-LOC 0.9981752634048462\">New</span> <span class=\"bold I-LOC\" title=\"I-LOC 0.9992596507072449\">York</span> (<span class=\"bold B-ORG\" title=\"B-ORG 0.9973884224891663\">CNN</span>)When <span class=\"bold B-PER\" title=\"B-PER 0.9991844296455383\">Lia</span><span class=\"bold B-PER\" title=\"B-PER 0.9417227506637573\">na</span> <span class=\"bold I-PER\" title=\"I-PER 0.9993153810501099\">Barr</span><span class=\"bold I-PER\" title=\"I-PER 0.9569273591041565\">ient</span><span class=\"bold I-PER\" title=\"I-PER 0.9923417568206787\">os</span> was 23 years old, she got married in <span class=\"bold B-LOC\" title=\"B-LOC 0.9995774626731873\">West</span><span class=\"bold I-LOC\" title=\"I-LOC 0.9978914856910706\">chester</span> <span class=\"bold I-LOC\" title=\"I-LOC 0.9994414448738098\">County</span>, <span class=\"bold B-LOC\" title=\"B-LOC 0.9994866847991943\">New</span> <span class=\"bold I-LOC\" title=\"I-LOC 0.9995108842849731\">York</span>.\n",
       "A year later, she got married again in <span class=\"bold B-LOC\" title=\"B-LOC 0.9996102452278137\">West</span><span class=\"bold I-LOC\" title=\"I-LOC 0.9986357092857361\">chester</span> <span class=\"bold I-LOC\" title=\"I-LOC 0.9994851350784302\">County</span>, but to a different man and without divorcing her first husband.\n",
       "Only 18 days after that marriage, she got hitched yet again. Then, <span class=\"bold B-PER\" title=\"B-PER 0.9991323351860046\">Barr</span>ientos declared \"I do\" five more times, sometimes only within two weeks of each other.\n",
       "In 2010, she married once more, this time in the <span class=\"bold B-LOC\" title=\"B-LOC 0.9987442493438721\">Bronx</span>. In an application for a marriage license, she stated it was her \"first and only\" marriage.\n",
       "<span class=\"bold B-PER\" title=\"B-PER 0.9990867376327515\">Barr</span><span class=\"bold I-PER\" title=\"I-PER 0.7210085391998291\">ient</span><span class=\"bold I-PER\" title=\"I-PER 0.9070331454277039\">os</span>, now 39, is facing two criminal counts of \"offering a false instrument for filing in the first degree,\" referring to her false statements on the\n",
       "2010 marriage license application, according to court documents.\n",
       "Prosecutors said the marriages were part of an immigration scam.\n",
       "On Friday, she pleaded not guilty at <span class=\"bold B-ORG\" title=\"B-ORG 0.9945999383926392\">State</span> <span class=\"bold I-ORG\" title=\"I-ORG 0.9966000914573669\">Supreme</span> <span class=\"bold I-ORG\" title=\"I-ORG 0.9939152598381042\">Court</span> in the <span class=\"bold B-LOC\" title=\"B-LOC 0.998908281326294\">Bronx</span>, according to her attorney, <span class=\"bold B-PER\" title=\"B-PER 0.999620795249939\">Christopher</span> <span class=\"bold I-PER\" title=\"I-PER 0.9995324611663818\">Wright</span>, who declined to comment further.\n",
       "After leaving court, <span class=\"bold B-PER\" title=\"B-PER 0.9978869557380676\">Barr</span><span class=\"bold I-PER\" title=\"I-PER 0.6200411319732666\">ient</span><span class=\"bold I-PER\" title=\"I-PER 0.8436304926872253\">os</span> was arrested and charged with theft of service and criminal trespass for allegedly sneaking into the <span class=\"bold B-LOC\" title=\"B-LOC 0.9995267391204834\">New</span> <span class=\"bold I-LOC\" title=\"I-LOC 0.9994024038314819\">York</span> subway through an emergency exit, said Detective\n",
       "<span class=\"bold B-PER\" title=\"B-PER 0.9996414184570312\">Annette</span> <span class=\"bold I-PER\" title=\"I-PER 0.9996223449707031\">Mark</span><span class=\"bold I-PER\" title=\"I-PER 0.9980097413063049\">owski</span>, a police spokeswoman. In total, <span class=\"bold B-PER\" title=\"B-PER 0.9978333115577698\">Barr</span><span class=\"bold I-PER\" title=\"I-PER 0.5011906623840332\">ient</span><span class=\"bold I-PER\" title=\"I-PER 0.5636206269264221\">os</span> has been married 10 times, with nine of her marriages occurring between 1999 and 2002.\n",
       "All occurred either in <span class=\"bold B-LOC\" title=\"B-LOC 0.9994838237762451\">West</span><span class=\"bold I-LOC\" title=\"I-LOC 0.9989619255065918\">chester</span> <span class=\"bold I-LOC\" title=\"I-LOC 0.9994538426399231\">County</span>, <span class=\"bold B-LOC\" title=\"B-LOC 0.9994069337844849\">Long</span> <span class=\"bold I-LOC\" title=\"I-LOC 0.9994851350784302\">Island</span>, <span class=\"bold B-LOC\" title=\"B-LOC 0.9995707869529724\">New</span> <span class=\"bold I-LOC\" title=\"I-LOC 0.999505877494812\">Jersey</span> or the <span class=\"bold B-LOC\" title=\"B-LOC 0.9987818598747253\">Bronx</span>. She is believed to still be married to four men, and at one time, she was married to eight men at once, prosecutors say.\n",
       "Prosecutors said the immigration scam involved some of her husbands, who filed for permanent residence status shortly after the marriages.\n",
       "Any divorces happened only after such filings were approved. It was unclear whether any of the men will be prosecuted.\n",
       "The case was referred to the <span class=\"bold B-LOC\" title=\"B-LOC 0.9651674628257751\">Bronx</span> District Attorney's <span class=\"bold I-ORG\" title=\"I-ORG 0.7097028493881226\">Office</span> by <span class=\"bold B-ORG\" title=\"B-ORG 0.8944626450538635\">Immigration</span> and <span class=\"bold I-ORG\" title=\"I-ORG 0.8533370494842529\">Customs</span> Enforcement and the <span class=\"bold I-ORG\" title=\"I-ORG 0.9062443971633911\">Department</span> of <span class=\"bold B-ORG\" title=\"B-ORG 0.9234178066253662\">Homeland</span> Security's\n",
       "<span class=\"bold I-ORG\" title=\"I-ORG 0.5633611083030701\">Investigation</span> <span class=\"bold I-ORG\" title=\"I-ORG 0.6581262350082397\">Division</span>. Seven of the men are from so-called \"red-flagged\" countries, including <span class=\"bold B-LOC\" title=\"B-LOC 0.9996914863586426\">Egypt</span>, <span class=\"bold B-LOC\" title=\"B-LOC 0.999748170375824\">Turkey</span>, <span class=\"bold B-LOC\" title=\"B-LOC 0.9993610978126526\">Georgia</span>, <span class=\"bold B-LOC\" title=\"B-LOC 0.9996622800827026\">Pakistan</span> and <span class=\"bold B-LOC\" title=\"B-LOC 0.9455600380897522\">Mali</span>.\n",
       "Her eighth husband, <span class=\"bold B-ORG\" title=\"B-ORG 0.6189484596252441\">Rashid</span> <span class=\"bold B-ORG\" title=\"B-ORG 0.7908345460891724\">Raj</span>put, was deported in 2006 to his native <span class=\"bold B-LOC\" title=\"B-LOC 0.9995753169059753\">Pakistan</span> after an investigation by the <span class=\"bold B-ORG\" title=\"B-ORG 0.9282736778259277\">Joint</span> <span class=\"bold B-ORG\" title=\"B-ORG 0.619269073009491\">Terrorism</span> <span class=\"bold B-ORG\" title=\"B-ORG 0.7501646876335144\">Task</span> <span class=\"bold I-ORG\" title=\"I-ORG 0.8775572776794434\">Force</span>.\n",
       "If convicted, <span class=\"bold B-ORG\" title=\"B-ORG 0.7765058875083923\">Barr</span>\n",
       "</body>\n",
       "</html>\n"
      ],
      "text/plain": [
       "<IPython.core.display.HTML object>"
      ]
     },
     "execution_count": 20,
     "metadata": {},
     "output_type": "execute_result"
    }
   ],
   "source": [
    "from IPython.core.display import HTML\n",
    "html_content = f\"\"\"\n",
    "<html>\n",
    "<head>\n",
    "<style>\n",
    ".bold {{\n",
    "    font-weight: 800\n",
    "}}\n",
    ".I-LOC {{color: cyan;}}\n",
    ".B-LOC {{color: blue;}}\n",
    ".I-ORG {{color: orange;}}\n",
    ".B-ORG {{color: red;}}\n",
    ".I-PER {{color: green;}}\n",
    ".B-PER {{color: darkgreen;}}\n",
    "</style>\n",
    "<head>\n",
    "<body>\n",
    "{output}\n",
    "</body>\n",
    "</html>\n",
    "\"\"\"\n",
    "HTML(html_content)"
   ]
  },
  {
   "cell_type": "code",
   "execution_count": null,
   "id": "15bd8098-79fc-420f-8757-f91e3255398a",
   "metadata": {},
   "outputs": [],
   "source": []
  }
 ],
 "metadata": {
  "kernelspec": {
   "display_name": "Python 3 (ipykernel)",
   "language": "python",
   "name": "python3"
  },
  "language_info": {
   "codemirror_mode": {
    "name": "ipython",
    "version": 3
   },
   "file_extension": ".py",
   "mimetype": "text/x-python",
   "name": "python",
   "nbconvert_exporter": "python",
   "pygments_lexer": "ipython3",
   "version": "3.9.6"
  }
 },
 "nbformat": 4,
 "nbformat_minor": 5
}
